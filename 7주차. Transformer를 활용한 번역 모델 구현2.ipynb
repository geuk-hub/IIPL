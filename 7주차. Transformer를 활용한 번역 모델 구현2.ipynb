{
 "cells": [
  {
   "cell_type": "code",
   "execution_count": 1,
   "metadata": {},
   "outputs": [
    {
     "name": "stderr",
     "output_type": "stream",
     "text": [
      "/Library/Frameworks/Python.framework/Versions/3.11/lib/python3.11/site-packages/tqdm/auto.py:21: TqdmWarning: IProgress not found. Please update jupyter and ipywidgets. See https://ipywidgets.readthedocs.io/en/stable/user_install.html\n",
      "  from .autonotebook import tqdm as notebook_tqdm\n"
     ]
    }
   ],
   "source": [
    "from datasets import load_dataset\n",
    "\n",
    "dataset_name = \"bentrevett/multi30k\"\n",
    "\n",
    "dataset = load_dataset(dataset_name)"
   ]
  },
  {
   "cell_type": "code",
   "execution_count": 2,
   "metadata": {},
   "outputs": [
    {
     "data": {
      "text/plain": [
       "DatasetDict({\n",
       "    train: Dataset({\n",
       "        features: ['en', 'de'],\n",
       "        num_rows: 29000\n",
       "    })\n",
       "    validation: Dataset({\n",
       "        features: ['en', 'de'],\n",
       "        num_rows: 1014\n",
       "    })\n",
       "    test: Dataset({\n",
       "        features: ['en', 'de'],\n",
       "        num_rows: 1000\n",
       "    })\n",
       "})"
      ]
     },
     "execution_count": 2,
     "metadata": {},
     "output_type": "execute_result"
    }
   ],
   "source": [
    "dataset"
   ]
  },
  {
   "cell_type": "code",
   "execution_count": 3,
   "metadata": {},
   "outputs": [],
   "source": [
    "import torch\n",
    "import torch.nn as nn\n",
    "from torch.utils.data import Dataset, DataLoader\n",
    "from torch.nn.utils.rnn import pad_sequence\n",
    "from tqdm import tqdm\n",
    "import math\n",
    "import torch.nn.functional as F"
   ]
  },
  {
   "cell_type": "code",
   "execution_count": 4,
   "metadata": {},
   "outputs": [
    {
     "name": "stderr",
     "output_type": "stream",
     "text": [
      "/Library/Frameworks/Python.framework/Versions/3.11/lib/python3.11/site-packages/transformers/utils/generic.py:441: UserWarning: torch.utils._pytree._register_pytree_node is deprecated. Please use torch.utils._pytree.register_pytree_node instead.\n",
      "  _torch_pytree._register_pytree_node(\n"
     ]
    }
   ],
   "source": [
    "from transformers import BertTokenizer\n",
    "\n",
    "tokenizer_en = BertTokenizer.from_pretrained('bert-base-uncased') # 영어 토큰화\n",
    "tokenizer_de = BertTokenizer.from_pretrained('bert-base-german-cased') # 독일어 토큰화\n",
    "\n",
    "class Dataset(Dataset):\n",
    "    def __init__(self, data, tokenizer_en, tokenizer_de, device):\n",
    "        self.data = data\n",
    "        self.tokenizer_en = tokenizer_en\n",
    "        self.tokenizer_de = tokenizer_de\n",
    "        self.device = device\n",
    "\n",
    "    def __len__(self):\n",
    "        return len(self.data)\n",
    "\n",
    "    def __getitem__(self, idx):\n",
    "        en_text = self.data['en'][idx]\n",
    "        de_text = self.data['de'][idx]\n",
    "\n",
    "        en_encoded = tokenizer_en.encode(en_text, add_special_tokens=True)\n",
    "        de_encoded = tokenizer_de.encode(de_text, add_special_tokens=True)\n",
    "\n",
    "        return {'en': torch.tensor(en_encoded).to(self.device), 'de': torch.tensor(de_encoded).to(self.device)}\n",
    "\n",
    "device = torch.device('mps')\n",
    "\n",
    "def collate_fn(batch):\n",
    "    src_batch = [text['de'] for text in batch]\n",
    "    trg_batch = [text['en'] for text in batch]\n",
    "\n",
    "    src_padded = pad_sequence(src_batch, batch_first=True, padding_value=tokenizer_de.pad_token_id)\n",
    "    trg_padded = pad_sequence(trg_batch, batch_first=True, padding_value=tokenizer_en.pad_token_id)\n",
    "\n",
    "    return {'src': src_padded, 'trg': trg_padded}\n",
    "\n",
    "train_dataset = Dataset(dataset['train'], tokenizer_en, tokenizer_de, device)\n",
    "valid_dataset = Dataset(dataset['validation'], tokenizer_en, tokenizer_de, device)\n",
    "test_dataset = Dataset(dataset['test'], tokenizer_en, tokenizer_de, device)\n",
    "\n",
    "# DataLoader 생성\n",
    "batch_size = 32\n",
    "train_loader = DataLoader(train_dataset, batch_size=batch_size, collate_fn=collate_fn, shuffle=True, drop_last=True)\n",
    "valid_loader = DataLoader(valid_dataset, batch_size=batch_size, collate_fn=collate_fn, shuffle=False, drop_last=True)\n",
    "test_loader = DataLoader(test_dataset, batch_size=batch_size, collate_fn=collate_fn, shuffle=False, drop_last=True)"
   ]
  },
  {
   "cell_type": "code",
   "execution_count": 6,
   "metadata": {},
   "outputs": [
    {
     "name": "stdout",
     "output_type": "stream",
     "text": [
      "첫 번째 배치 크기: torch.Size([32, 28])\n",
      "인덱스 0: 3\n",
      "인덱스 1: 2779\n",
      "인덱스 2: 1075\n",
      "인덱스 3: 2\n",
      "인덱스 4: 678\n",
      "인덱스 5: 4916\n",
      "인덱스 6: 42\n",
      "인덱스 7: 39\n",
      "인덱스 8: 10828\n",
      "인덱스 9: 2\n",
      "인덱스 10: 287\n",
      "인덱스 11: 115\n",
      "인덱스 12: 297\n",
      "인덱스 13: 10494\n",
      "인덱스 14: 26914\n",
      "인덱스 15: 4\n",
      "인덱스 16: 0\n",
      "인덱스 17: 0\n",
      "인덱스 18: 0\n",
      "인덱스 19: 0\n",
      "인덱스 20: 0\n",
      "인덱스 21: 0\n",
      "인덱스 22: 0\n",
      "인덱스 23: 0\n",
      "인덱스 24: 0\n",
      "인덱스 25: 0\n",
      "인덱스 26: 0\n",
      "인덱스 27: 0\n"
     ]
    }
   ],
   "source": [
    "for i, batch in enumerate(train_loader):\n",
    "    src = batch['src']\n",
    "    trg = batch['trg']\n",
    "\n",
    "    print(f\"첫 번째 배치 크기: {src.shape}\")\n",
    "\n",
    "    # 현재 배치에 있는 하나의 문장에 포함된 정보 출력\n",
    "    for i in range(src.shape[1]):\n",
    "        print(f\"인덱스 {i}: {src[0][i].item()}\") # 여기에서는 [seq_num, seq_len]\n",
    "\n",
    "    # 첫 번째 배치만 확인\n",
    "    break"
   ]
  },
  {
   "cell_type": "code",
   "execution_count": 7,
   "metadata": {},
   "outputs": [],
   "source": [
    "class MultiHeadAttention(nn.Module):\n",
    "    def __init__(self, hidden_dim, n_heads, dropout_ratio, device):\n",
    "        super().__init__()\n",
    "\n",
    "        assert hidden_dim % n_heads == 0\n",
    "\n",
    "        self.hidden_dim = hidden_dim\n",
    "        self.n_heads = n_heads\n",
    "        self.head_dim = hidden_dim // n_heads\n",
    "\n",
    "        self.fc_q = nn.Linear(hidden_dim, hidden_dim)\n",
    "        self.fc_k = nn.Linear(hidden_dim, hidden_dim)\n",
    "        self.fc_v = nn.Linear(hidden_dim, hidden_dim)\n",
    "\n",
    "        self.fc_o = nn.Linear(hidden_dim, hidden_dim)\n",
    "\n",
    "        self.dropout = nn.Dropout(dropout_ratio)\n",
    "\n",
    "        self.scale = torch.sqrt(torch.FloatTensor([self.head_dim])).to(device)\n",
    "\n",
    "    def forward(self, query, key, value, mask = None):\n",
    "\n",
    "        batch_size = query.shape[0]\n",
    "\n",
    "        Q = self.fc_q(query)\n",
    "        K = self.fc_k(key)\n",
    "        V = self.fc_v(value)\n",
    "\n",
    "        Q = Q.view(batch_size, -1, self.n_heads, self.head_dim).permute(0, 2, 1, 3)\n",
    "        K = K.view(batch_size, -1, self.n_heads, self.head_dim).permute(0, 2, 1, 3)\n",
    "        V = V.view(batch_size, -1, self.n_heads, self.head_dim).permute(0, 2, 1, 3)\n",
    "\n",
    "        energy = torch.matmul(Q, K.permute(0, 1, 3, 2)) / self.scale\n",
    "\n",
    "        if mask is not None:\n",
    "            energy = energy.masked_fill(mask==0, -1e10)\n",
    "\n",
    "        attention = torch.softmax(energy, dim=-1) # head_dim 차원에 softmax 적용 => attention score를 정규화\n",
    "\n",
    "        x = torch.matmul(self.dropout(attention), V)\n",
    "\n",
    "        x = x.permute(0, 2, 1, 3).contiguous()  # 연속적인 메모리로 재배열 (view 함수 쓰기 전 사용 필요)\n",
    "\n",
    "        x = x.view(batch_size, -1, self.hidden_dim)\n",
    "\n",
    "        x = self.fc_o(x)\n",
    "\n",
    "        return x, attention"
   ]
  },
  {
   "cell_type": "code",
   "execution_count": 8,
   "metadata": {},
   "outputs": [],
   "source": [
    "class FeedforwardLayer(nn.Module):\n",
    "    def __init__(self, hidden_dim, ff_dim, dropout_ratio):\n",
    "        super().__init__()\n",
    "\n",
    "        self.fc_1 = nn.Linear(hidden_dim, ff_dim)\n",
    "        self.fc_2 = nn.Linear(ff_dim, hidden_dim)\n",
    "\n",
    "        self.dropout = nn.Dropout(dropout_ratio)\n",
    "\n",
    "    def forward(self, x):\n",
    "\n",
    "        x = self.dropout(F.gelu(self.fc_1(x)))\n",
    "\n",
    "        x = self.fc_2(x)\n",
    "\n",
    "        return x"
   ]
  },
  {
   "cell_type": "code",
   "execution_count": 9,
   "metadata": {},
   "outputs": [],
   "source": [
    "class EncoderLayer(nn.Module):\n",
    "    def __init__(self, hidden_dim, n_heads, ff_dim, dropout_ratio, device):\n",
    "        super().__init__()\n",
    "\n",
    "        self.attn_layer_norm = nn.LayerNorm(hidden_dim) # hidden_dim 차원 정규화\n",
    "        self.ff_layer_norm = nn.LayerNorm(hidden_dim)\n",
    "        self.self_attention = MultiHeadAttention(hidden_dim, n_heads, dropout_ratio, device)\n",
    "        self.feedforward = FeedforwardLayer(hidden_dim, ff_dim, dropout_ratio)\n",
    "        self.dropout = nn.Dropout(dropout_ratio)\n",
    "\n",
    "    def forward(self, src, src_mask):\n",
    "        _src, attention = self.self_attention(src, src, src, src_mask)\n",
    "\n",
    "        src = self.attn_layer_norm(src+self.dropout(_src))\n",
    "\n",
    "        _src = self.feedforward(src)\n",
    "\n",
    "        src = self.ff_layer_norm(src+self.dropout(_src))\n",
    "\n",
    "        return src"
   ]
  },
  {
   "cell_type": "code",
   "execution_count": 10,
   "metadata": {},
   "outputs": [],
   "source": [
    "class PositionalEncoding(nn.Module):\n",
    "    def __init__(self, hidden_dim, device):\n",
    "        super().__init__()\n",
    "\n",
    "        self.hidden_dim = hidden_dim\n",
    "        self.device = device\n",
    "\n",
    "    def forward(self, src):\n",
    "\n",
    "        batch_size, src_len = src.shape[0], src.shape[1]\n",
    "        pe = torch.zeros(src_len, self.hidden_dim).to(self.device)\n",
    "        position = torch.arange(0, src_len).unsqueeze(1).to(self.device)\n",
    "        div_term = torch.exp(torch.arange(0, self.hidden_dim, 2) * -(math.log(10000.0)/self.hidden_dim)).to(self.device)\n",
    "\n",
    "        pe[:, 0::2] = torch.sin(position * div_term)\n",
    "        pe[:, 1::2] = torch.cos(position * div_term)\n",
    "        pe = pe.unsqueeze(0).expand(batch_size, src_len, self.hidden_dim)\n",
    "\n",
    "        return pe"
   ]
  },
  {
   "cell_type": "code",
   "execution_count": 11,
   "metadata": {},
   "outputs": [],
   "source": [
    "class Encoder(nn.Module):\n",
    "    def __init__(self, hidden_dim, n_heads, ff_dim, dropout_ratio, device, input_dim, n_layers):\n",
    "        super().__init__()\n",
    "\n",
    "        self.device = device\n",
    "\n",
    "        self.tok_embedding = nn.Embedding(input_dim, hidden_dim)\n",
    "        self.pos_embedding = PositionalEncoding(hidden_dim, device)\n",
    "\n",
    "        self.layers = nn.ModuleList([EncoderLayer(hidden_dim, n_heads, ff_dim, dropout_ratio, device) for _ in range(n_layers)])\n",
    "\n",
    "        self.dropout = nn.Dropout(dropout_ratio)\n",
    "\n",
    "        self.scale = torch.sqrt(torch.FloatTensor([hidden_dim])).to(device)\n",
    "\n",
    "    def forward(self, src, src_mask):\n",
    "\n",
    "        src = self.dropout(self.tok_embedding(src)*self.scale + self.pos_embedding(src))\n",
    "\n",
    "        for layer in self.layers:\n",
    "            src = layer(src, src_mask)\n",
    "\n",
    "        return src"
   ]
  },
  {
   "cell_type": "code",
   "execution_count": 12,
   "metadata": {},
   "outputs": [],
   "source": [
    "class DecoderLayer(nn.Module):\n",
    "    def __init__(self, hidden_dim, n_heads, ff_dim, dropout_ratio, device):\n",
    "        super().__init__()\n",
    "\n",
    "        self.attn_layer_norm = nn.LayerNorm(hidden_dim)\n",
    "        self.enc_attn_layer_norm = nn.LayerNorm(hidden_dim)\n",
    "        self.ff_layer_norm = nn.LayerNorm(hidden_dim)\n",
    "\n",
    "        self.self_attention = MultiHeadAttention(hidden_dim, n_heads, dropout_ratio, device)\n",
    "        self.encoder_attention = MultiHeadAttention(hidden_dim, n_heads, dropout_ratio, device)\n",
    "        self.feedforward = FeedforwardLayer(hidden_dim, ff_dim, dropout_ratio)\n",
    "\n",
    "        self.dropout = nn.Dropout(dropout_ratio)\n",
    "\n",
    "    def forward(self, src, trg, src_mask, trg_mask):\n",
    "\n",
    "        _trg, _ = self.self_attention(trg, trg, trg, trg_mask)\n",
    "        trg = self.attn_layer_norm(self.dropout(_trg) + trg)\n",
    "\n",
    "        _trg, _ = self.encoder_attention(trg, src, src, src_mask)\n",
    "        trg = self.enc_attn_layer_norm(self.dropout(_trg) + trg)\n",
    "\n",
    "        _trg = self.feedforward(trg)\n",
    "        trg = self.ff_layer_norm(self.feedforward(_trg) + trg)\n",
    "\n",
    "        return trg"
   ]
  },
  {
   "cell_type": "code",
   "execution_count": 13,
   "metadata": {},
   "outputs": [],
   "source": [
    "class Decoder(nn.Module):\n",
    "    def __init__(self, hidden_dim, n_heads, ff_dim, dropout_ratio, device, output_dim, n_layers):\n",
    "        super().__init__()\n",
    "\n",
    "        self.device = device\n",
    "\n",
    "        self.tok_embedding = nn.Embedding(output_dim, hidden_dim)\n",
    "        self.pos_embedding = PositionalEncoding(hidden_dim, device)\n",
    "\n",
    "        self.layers = nn.ModuleList([DecoderLayer(hidden_dim, n_heads, ff_dim, dropout_ratio, device) for _ in range(n_layers)])\n",
    "        self.fc_out = nn.Linear(hidden_dim, output_dim)\n",
    "\n",
    "        self.dropout = nn.Dropout(dropout_ratio)\n",
    "        self.scale = torch.sqrt(torch.FloatTensor([hidden_dim])).to(device)\n",
    "\n",
    "    def forward(self, src, trg, src_mask, trg_mask):\n",
    "\n",
    "        trg = self.dropout(self.tok_embedding(trg)*self.scale + self.pos_embedding(trg))\n",
    "\n",
    "        for layer in self.layers:\n",
    "            trg = layer(src, trg, src_mask, trg_mask)\n",
    "\n",
    "        output = self.fc_out(trg)\n",
    "\n",
    "        return output"
   ]
  },
  {
   "cell_type": "code",
   "execution_count": 14,
   "metadata": {},
   "outputs": [],
   "source": [
    "class Transformer(nn.Module):\n",
    "    def __init__(self, encoder, decoder, src_pad_idx, trg_pad_idx, device):\n",
    "        super().__init__()\n",
    "\n",
    "        self.encoder = encoder\n",
    "        self.decoder = decoder\n",
    "        self.src_pad_idx = src_pad_idx\n",
    "        self.trg_pad_idx = trg_pad_idx\n",
    "        self.device = device\n",
    "\n",
    "    def make_src_mask(self, src):\n",
    "\n",
    "        src_mask = (src != self.src_pad_idx).unsqueeze(1).unsqueeze(2)\n",
    "\n",
    "        return src_mask\n",
    "\n",
    "    def make_trg_mask(self, trg):\n",
    "\n",
    "        trg_pad_mask = (trg != self.trg_pad_idx).unsqueeze(1).unsqueeze(2).to(self.device)\n",
    "\n",
    "        trg_len = trg.shape[1]\n",
    "        trg_sub_mask = torch.tril(torch.ones((trg_len, trg_len), device=self.device)).bool()\n",
    "\n",
    "        trg_mask = trg_pad_mask & trg_sub_mask\n",
    "\n",
    "        return trg_mask\n",
    "\n",
    "    def forward(self, src, trg):\n",
    "\n",
    "        src_mask = self.make_src_mask(src)\n",
    "        trg_mask = self.make_trg_mask(trg)\n",
    "\n",
    "        src = self.encoder(src, src_mask)\n",
    "        output = self.decoder(src, trg, src_mask, trg_mask)\n",
    "\n",
    "        return output"
   ]
  },
  {
   "cell_type": "code",
   "execution_count": 15,
   "metadata": {},
   "outputs": [],
   "source": [
    "input_dim = tokenizer_de.vocab_size\n",
    "output_dim = tokenizer_en.vocab_size\n",
    "hidden_dim = 512\n",
    "n_layers = 3\n",
    "n_heads = 8\n",
    "ff_dim = 512\n",
    "dropout = 0.1"
   ]
  },
  {
   "cell_type": "code",
   "execution_count": 16,
   "metadata": {},
   "outputs": [],
   "source": [
    "src_pad_idx = tokenizer_de.pad_token_id\n",
    "trg_pad_idx = tokenizer_en.pad_token_id\n",
    "\n",
    "encoder = Encoder(hidden_dim, n_heads, ff_dim, dropout, device, input_dim, n_layers)\n",
    "decoder = Decoder(hidden_dim, n_heads, ff_dim, dropout, device, output_dim, n_layers)\n",
    "\n",
    "model = Transformer(encoder, decoder, src_pad_idx, trg_pad_idx, device).to(device)"
   ]
  },
  {
   "cell_type": "code",
   "execution_count": 17,
   "metadata": {},
   "outputs": [
    {
     "name": "stdout",
     "output_type": "stream",
     "text": [
      "The model has 59,267,898 trainable parameters\n"
     ]
    }
   ],
   "source": [
    "def count_parameters(model):\n",
    "    return sum(p.numel() for p in model.parameters() if p.requires_grad)\n",
    "\n",
    "print(f'The model has {count_parameters(model):,} trainable parameters')"
   ]
  },
  {
   "cell_type": "code",
   "execution_count": 18,
   "metadata": {},
   "outputs": [
    {
     "data": {
      "text/plain": [
       "Transformer(\n",
       "  (encoder): Encoder(\n",
       "    (tok_embedding): Embedding(30000, 512)\n",
       "    (pos_embedding): PositionalEncoding()\n",
       "    (layers): ModuleList(\n",
       "      (0-2): 3 x EncoderLayer(\n",
       "        (attn_layer_norm): LayerNorm((512,), eps=1e-05, elementwise_affine=True)\n",
       "        (ff_layer_norm): LayerNorm((512,), eps=1e-05, elementwise_affine=True)\n",
       "        (self_attention): MultiHeadAttention(\n",
       "          (fc_q): Linear(in_features=512, out_features=512, bias=True)\n",
       "          (fc_k): Linear(in_features=512, out_features=512, bias=True)\n",
       "          (fc_v): Linear(in_features=512, out_features=512, bias=True)\n",
       "          (fc_o): Linear(in_features=512, out_features=512, bias=True)\n",
       "          (dropout): Dropout(p=0.1, inplace=False)\n",
       "        )\n",
       "        (feedforward): FeedforwardLayer(\n",
       "          (fc_1): Linear(in_features=512, out_features=512, bias=True)\n",
       "          (fc_2): Linear(in_features=512, out_features=512, bias=True)\n",
       "          (dropout): Dropout(p=0.1, inplace=False)\n",
       "        )\n",
       "        (dropout): Dropout(p=0.1, inplace=False)\n",
       "      )\n",
       "    )\n",
       "    (dropout): Dropout(p=0.1, inplace=False)\n",
       "  )\n",
       "  (decoder): Decoder(\n",
       "    (tok_embedding): Embedding(30522, 512)\n",
       "    (pos_embedding): PositionalEncoding()\n",
       "    (layers): ModuleList(\n",
       "      (0-2): 3 x DecoderLayer(\n",
       "        (attn_layer_norm): LayerNorm((512,), eps=1e-05, elementwise_affine=True)\n",
       "        (enc_attn_layer_norm): LayerNorm((512,), eps=1e-05, elementwise_affine=True)\n",
       "        (ff_layer_norm): LayerNorm((512,), eps=1e-05, elementwise_affine=True)\n",
       "        (self_attention): MultiHeadAttention(\n",
       "          (fc_q): Linear(in_features=512, out_features=512, bias=True)\n",
       "          (fc_k): Linear(in_features=512, out_features=512, bias=True)\n",
       "          (fc_v): Linear(in_features=512, out_features=512, bias=True)\n",
       "          (fc_o): Linear(in_features=512, out_features=512, bias=True)\n",
       "          (dropout): Dropout(p=0.1, inplace=False)\n",
       "        )\n",
       "        (encoder_attention): MultiHeadAttention(\n",
       "          (fc_q): Linear(in_features=512, out_features=512, bias=True)\n",
       "          (fc_k): Linear(in_features=512, out_features=512, bias=True)\n",
       "          (fc_v): Linear(in_features=512, out_features=512, bias=True)\n",
       "          (fc_o): Linear(in_features=512, out_features=512, bias=True)\n",
       "          (dropout): Dropout(p=0.1, inplace=False)\n",
       "        )\n",
       "        (feedforward): FeedforwardLayer(\n",
       "          (fc_1): Linear(in_features=512, out_features=512, bias=True)\n",
       "          (fc_2): Linear(in_features=512, out_features=512, bias=True)\n",
       "          (dropout): Dropout(p=0.1, inplace=False)\n",
       "        )\n",
       "        (dropout): Dropout(p=0.1, inplace=False)\n",
       "      )\n",
       "    )\n",
       "    (fc_out): Linear(in_features=512, out_features=30522, bias=True)\n",
       "    (dropout): Dropout(p=0.1, inplace=False)\n",
       "  )\n",
       ")"
      ]
     },
     "execution_count": 18,
     "metadata": {},
     "output_type": "execute_result"
    }
   ],
   "source": [
    "def initialize_weights(m):\n",
    "    if hasattr(m, 'weight') and m.weight.dim() > 1:\n",
    "        nn.init.xavier_uniform_(m.weight.data)\n",
    "\n",
    "model.apply(initialize_weights)"
   ]
  },
  {
   "cell_type": "code",
   "execution_count": 19,
   "metadata": {},
   "outputs": [],
   "source": [
    "import torch.optim as optim\n",
    "from transformers import get_linear_schedule_with_warmup\n",
    "\n",
    "optimizer = optim.AdamW(model.parameters(), lr=0.0005)\n",
    "\n",
    "# 뒷 부분의 패딩(padding)에 대해서는 값 무시\n",
    "criterion = nn.CrossEntropyLoss(ignore_index = trg_pad_idx)\n",
    "total_steps = len(train_loader) * 15\n",
    "scheduler = get_linear_schedule_with_warmup(\n",
    "    optimizer,\n",
    "    num_warmup_steps=2700,\n",
    "    num_training_steps=total_steps\n",
    ")"
   ]
  },
  {
   "cell_type": "code",
   "execution_count": 20,
   "metadata": {},
   "outputs": [],
   "source": [
    "def train(model, iterator, optimizer, criterion, epoch, scheduler):\n",
    "    model.train()\n",
    "    epoch_loss = 0\n",
    "\n",
    "    for i, batch in enumerate(tqdm(iterator, desc=f\"Train Epoch {epoch+1}\")):\n",
    "        src = batch['src']\n",
    "        trg = batch['trg']\n",
    "\n",
    "        optimizer.zero_grad()\n",
    "\n",
    "        output = model(src, trg[:, :-1])\n",
    "\n",
    "        output_dim = output.shape[-1]\n",
    "\n",
    "        output = output.contiguous().view(-1, output_dim)\n",
    "        trg = trg[:, 1:].contiguous().view(-1)\n",
    "\n",
    "        loss = criterion(output, trg)\n",
    "        loss.backward()\n",
    "\n",
    "        optimizer.step()\n",
    "        scheduler.step()\n",
    "\n",
    "        epoch_loss += loss.item()\n",
    "\n",
    "    return epoch_loss / len(iterator)"
   ]
  },
  {
   "cell_type": "code",
   "execution_count": 21,
   "metadata": {},
   "outputs": [],
   "source": [
    "def evaluate(model, iterator, criterion, epoch):\n",
    "    model.eval()\n",
    "    epoch_loss = 0\n",
    "\n",
    "    with torch.no_grad():\n",
    "        for i, batch in enumerate(tqdm(iterator, desc=f\"Valid Epoch {epoch+1}\")):\n",
    "\n",
    "            src = batch['src']\n",
    "            trg = batch['trg']\n",
    "\n",
    "            output = model(src, trg[:,:-1])\n",
    "\n",
    "            output_dim = output.shape[-1]\n",
    "\n",
    "            output = output.contiguous().view(-1, output_dim)\n",
    "\n",
    "            trg = trg[:,1:].contiguous().view(-1)\n",
    "\n",
    "            loss = criterion(output, trg)\n",
    "\n",
    "            epoch_loss += loss.item()\n",
    "\n",
    "    return epoch_loss / len(iterator)"
   ]
  },
  {
   "cell_type": "code",
   "execution_count": 22,
   "metadata": {},
   "outputs": [
    {
     "name": "stderr",
     "output_type": "stream",
     "text": [
      "Train Epoch 1: 100%|██████████| 906/906 [16:57<00:00,  1.12s/it]\n",
      "Valid Epoch 1: 100%|██████████| 31/31 [00:03<00:00,  8.57it/s]\n"
     ]
    },
    {
     "name": "stdout",
     "output_type": "stream",
     "text": [
      "Train Loss: 5.8211, Validation Loss: 3.8400\n",
      "Best model saved!\n"
     ]
    },
    {
     "name": "stderr",
     "output_type": "stream",
     "text": [
      "Train Epoch 2: 100%|██████████| 906/906 [16:55<00:00,  1.12s/it]\n",
      "Valid Epoch 2: 100%|██████████| 31/31 [00:03<00:00,  8.48it/s]\n"
     ]
    },
    {
     "name": "stdout",
     "output_type": "stream",
     "text": [
      "Train Loss: 3.1751, Validation Loss: 2.5403\n",
      "Best model saved!\n"
     ]
    },
    {
     "name": "stderr",
     "output_type": "stream",
     "text": [
      "Train Epoch 3: 100%|██████████| 906/906 [16:46<00:00,  1.11s/it]\n",
      "Valid Epoch 3: 100%|██████████| 31/31 [00:03<00:00,  8.60it/s]\n"
     ]
    },
    {
     "name": "stdout",
     "output_type": "stream",
     "text": [
      "Train Loss: 2.3332, Validation Loss: 2.1816\n",
      "Best model saved!\n"
     ]
    },
    {
     "name": "stderr",
     "output_type": "stream",
     "text": [
      "Train Epoch 4: 100%|██████████| 906/906 [16:40<00:00,  1.10s/it]\n",
      "Valid Epoch 4: 100%|██████████| 31/31 [00:03<00:00,  9.24it/s]\n"
     ]
    },
    {
     "name": "stdout",
     "output_type": "stream",
     "text": [
      "Train Loss: 1.9402, Validation Loss: 1.9257\n",
      "Best model saved!\n"
     ]
    },
    {
     "name": "stderr",
     "output_type": "stream",
     "text": [
      "Train Epoch 5: 100%|██████████| 906/906 [16:30<00:00,  1.09s/it]\n",
      "Valid Epoch 5: 100%|██████████| 31/31 [00:03<00:00,  8.95it/s]\n"
     ]
    },
    {
     "name": "stdout",
     "output_type": "stream",
     "text": [
      "Train Loss: 1.6154, Validation Loss: 1.8264\n",
      "Best model saved!\n"
     ]
    },
    {
     "name": "stderr",
     "output_type": "stream",
     "text": [
      "Train Epoch 6: 100%|██████████| 906/906 [15:51<00:00,  1.05s/it]\n",
      "Valid Epoch 6: 100%|██████████| 31/31 [00:03<00:00,  9.03it/s]\n"
     ]
    },
    {
     "name": "stdout",
     "output_type": "stream",
     "text": [
      "Train Loss: 1.3849, Validation Loss: 1.7514\n",
      "Best model saved!\n"
     ]
    },
    {
     "name": "stderr",
     "output_type": "stream",
     "text": [
      "Train Epoch 7: 100%|██████████| 906/906 [15:50<00:00,  1.05s/it]\n",
      "Valid Epoch 7: 100%|██████████| 31/31 [00:03<00:00, 10.26it/s]\n"
     ]
    },
    {
     "name": "stdout",
     "output_type": "stream",
     "text": [
      "Train Loss: 1.2013, Validation Loss: 1.7182\n",
      "Best model saved!\n"
     ]
    },
    {
     "name": "stderr",
     "output_type": "stream",
     "text": [
      "Train Epoch 8: 100%|██████████| 906/906 [16:08<00:00,  1.07s/it]\n",
      "Valid Epoch 8: 100%|██████████| 31/31 [00:03<00:00,  9.38it/s]\n"
     ]
    },
    {
     "name": "stdout",
     "output_type": "stream",
     "text": [
      "Train Loss: 1.0541, Validation Loss: 1.6970\n",
      "Best model saved!\n"
     ]
    },
    {
     "name": "stderr",
     "output_type": "stream",
     "text": [
      "Train Epoch 9: 100%|██████████| 906/906 [16:25<00:00,  1.09s/it]\n",
      "Valid Epoch 9: 100%|██████████| 31/31 [00:03<00:00,  9.98it/s]\n"
     ]
    },
    {
     "name": "stdout",
     "output_type": "stream",
     "text": [
      "Train Loss: 0.9202, Validation Loss: 1.7016\n"
     ]
    },
    {
     "name": "stderr",
     "output_type": "stream",
     "text": [
      "Train Epoch 10: 100%|██████████| 906/906 [16:27<00:00,  1.09s/it]\n",
      "Valid Epoch 10: 100%|██████████| 31/31 [00:03<00:00, 10.08it/s]\n"
     ]
    },
    {
     "name": "stdout",
     "output_type": "stream",
     "text": [
      "Train Loss: 0.8101, Validation Loss: 1.6979\n"
     ]
    },
    {
     "name": "stderr",
     "output_type": "stream",
     "text": [
      "Train Epoch 11: 100%|██████████| 906/906 [16:28<00:00,  1.09s/it]\n",
      "Valid Epoch 11: 100%|██████████| 31/31 [00:03<00:00, 10.08it/s]\n"
     ]
    },
    {
     "name": "stdout",
     "output_type": "stream",
     "text": [
      "Train Loss: 0.7052, Validation Loss: 1.7244\n"
     ]
    },
    {
     "name": "stderr",
     "output_type": "stream",
     "text": [
      "Train Epoch 12: 100%|██████████| 906/906 [16:30<00:00,  1.09s/it]\n",
      "Valid Epoch 12: 100%|██████████| 31/31 [00:03<00:00,  9.86it/s]\n"
     ]
    },
    {
     "name": "stdout",
     "output_type": "stream",
     "text": [
      "Train Loss: 0.6156, Validation Loss: 1.7267\n"
     ]
    },
    {
     "name": "stderr",
     "output_type": "stream",
     "text": [
      "Train Epoch 13: 100%|██████████| 906/906 [16:24<00:00,  1.09s/it]\n",
      "Valid Epoch 13: 100%|██████████| 31/31 [00:03<00:00,  9.60it/s]\n"
     ]
    },
    {
     "name": "stdout",
     "output_type": "stream",
     "text": [
      "Train Loss: 0.5375, Validation Loss: 1.7463\n"
     ]
    },
    {
     "name": "stderr",
     "output_type": "stream",
     "text": [
      "Train Epoch 14: 100%|██████████| 906/906 [16:29<00:00,  1.09s/it]\n",
      "Valid Epoch 14: 100%|██████████| 31/31 [00:03<00:00,  9.91it/s]\n"
     ]
    },
    {
     "name": "stdout",
     "output_type": "stream",
     "text": [
      "Train Loss: 0.4722, Validation Loss: 1.7575\n"
     ]
    },
    {
     "name": "stderr",
     "output_type": "stream",
     "text": [
      "Train Epoch 15: 100%|██████████| 906/906 [16:28<00:00,  1.09s/it]\n",
      "Valid Epoch 15: 100%|██████████| 31/31 [00:03<00:00,  9.95it/s]\n"
     ]
    },
    {
     "name": "stdout",
     "output_type": "stream",
     "text": [
      "Train Loss: 0.4224, Validation Loss: 1.7598\n"
     ]
    }
   ],
   "source": [
    "epochs = 15\n",
    "clip = 1\n",
    "best_valid_loss = float('inf')\n",
    "model_save_path = \"/Users/limbyeong-geuk/Desktop/7주차. Transformer_german_to_english.pt\"\n",
    "\n",
    "train_losses = []\n",
    "valid_losses = []\n",
    "\n",
    "for epoch in range(epochs):\n",
    "\n",
    "    train_loss = train(model, train_loader, optimizer, criterion, epoch, scheduler)\n",
    "    valid_loss = evaluate(model, valid_loader, criterion, epoch)\n",
    "\n",
    "    train_losses.append(train_loss)\n",
    "    valid_losses.append(valid_loss)\n",
    "\n",
    "    print(f'Train Loss: {train_loss:.4f}, Validation Loss: {valid_loss:.4f}')\n",
    "\n",
    "    if valid_loss < best_valid_loss:\n",
    "        best_valid_loss = valid_loss\n",
    "        torch.save(model.state_dict(), model_save_path)\n",
    "        print(f\"Best model saved!\")"
   ]
  },
  {
   "cell_type": "code",
   "execution_count": 23,
   "metadata": {},
   "outputs": [
    {
     "data": {
      "image/png": "[encoded data removed]",
      "text/plain": [
       "<Figure size 1000x500 with 1 Axes>"
      ]
     },
     "metadata": {},
     "output_type": "display_data"
    }
   ],
   "source": [
    "import matplotlib.pyplot as plt\n",
    "\n",
    "def plot_loss(train_losses, valid_losses):\n",
    "    plt.figure(figsize=(10, 5))\n",
    "    plt.plot(train_losses, label='Training loss')\n",
    "    plt.plot(valid_losses, label='Validation loss')\n",
    "    plt.title('Loss over epochs')\n",
    "    plt.xlabel('Epochs')\n",
    "    plt.ylabel('Loss')\n",
    "    plt.legend()\n",
    "    plt.show()\n",
    "\n",
    "plot_loss(train_losses, valid_losses)"
   ]
  },
  {
   "cell_type": "code",
   "execution_count": 24,
   "metadata": {},
   "outputs": [],
   "source": [
    "def test(model, iterator, criterion):\n",
    "    model.eval()\n",
    "    epoch_loss = 0\n",
    "\n",
    "    with torch.no_grad():\n",
    "        for i, batch in enumerate(tqdm(iterator)):\n",
    "\n",
    "            src = batch['src']\n",
    "            trg = batch['trg']\n",
    "\n",
    "            output = model(src, trg[:,:-1])\n",
    "\n",
    "            output_dim = output.shape[-1]\n",
    "\n",
    "            output = output.contiguous().view(-1, output_dim)\n",
    "\n",
    "            trg = trg[:,1:].contiguous().view(-1)\n",
    "\n",
    "            loss = criterion(output, trg)\n",
    "\n",
    "            epoch_loss += loss.item()\n",
    "\n",
    "    return epoch_loss / len(iterator)"
   ]
  },
  {
   "cell_type": "code",
   "execution_count": 25,
   "metadata": {},
   "outputs": [
    {
     "name": "stderr",
     "output_type": "stream",
     "text": [
      "100%|██████████| 31/31 [00:03<00:00,  9.35it/s]"
     ]
    },
    {
     "name": "stdout",
     "output_type": "stream",
     "text": [
      "Test Loss: 1.804 | Test PPL: 6.074\n"
     ]
    },
    {
     "name": "stderr",
     "output_type": "stream",
     "text": [
      "\n"
     ]
    }
   ],
   "source": [
    "model_save_path = \"/Users/limbyeong-geuk/Desktop/7주차. Transformer_german_to_english.pt\"\n",
    "\n",
    "model.load_state_dict(torch.load(model_save_path))\n",
    "\n",
    "test_loss = test(model, test_loader, criterion)\n",
    "\n",
    "print(f'Test Loss: {test_loss:.3f} | Test PPL: {math.exp(test_loss):.3f}')"
   ]
  },
  {
   "cell_type": "code",
   "execution_count": 26,
   "metadata": {},
   "outputs": [],
   "source": [
    "# 번역(translation) 함수\n",
    "def translate_sentence(sentence, model, device, max_len=50):\n",
    "    model.eval()\n",
    "\n",
    "    tokens = tokenizer_de.encode(sentence, add_special_tokens=True)\n",
    "    \n",
    "    src_tensor = torch.tensor(tokens).unsqueeze(0).to(device)\n",
    "\n",
    "    src_mask = model.make_src_mask(src_tensor)\n",
    "\n",
    "    with torch.no_grad():\n",
    "        src = model.encoder(src_tensor, src_mask)\n",
    "\n",
    "    # 처음에는 <sos> 토큰 하나만 가지고 있게 하기\n",
    "    trg_indexes = [tokenizer_en.cls_token_id]\n",
    "\n",
    "    for i in range(max_len):\n",
    "\n",
    "        trg = torch.tensor(trg_indexes).unsqueeze(0).to(device)\n",
    "        \n",
    "        trg_mask = model.make_trg_mask(trg)\n",
    "        with torch.no_grad():\n",
    "            output = model.decoder(src, trg, src_mask, trg_mask)\n",
    "\n",
    "        pred_token = output.argmax(2)[:,-1].item()\n",
    "        trg_indexes.append(pred_token)\n",
    "        \n",
    "        # <eos>를 만나는 순간 종료\n",
    "        if pred_token == tokenizer_en.sep_token_id:\n",
    "            break\n",
    "\n",
    "    trg_tokens = [tokenizer_en.decode(ids).replace(\" \", \"\") for ids in trg_indexes]\n",
    "    \n",
    "    # 첫 번째 <sos>는 제외하고 출력 문장 반환\n",
    "    return trg_tokens[1:]"
   ]
  },
  {
   "cell_type": "code",
   "execution_count": 27,
   "metadata": {},
   "outputs": [],
   "source": [
    "class TokenizedDataset(Dataset):\n",
    "    def __init__(self, data, tokenizer_en, tokenizer_de):\n",
    "        self.data = data\n",
    "        self.tokenizer_en = tokenizer_en\n",
    "        self.tokenizer_de = tokenizer_de\n",
    "\n",
    "    def __len__(self):\n",
    "        return len(self.data)\n",
    "\n",
    "    def __getitem__(self, idx):\n",
    "        en_text = self.data['en'][idx]\n",
    "        de_text = self.data['de'][idx]\n",
    "\n",
    "        en_tokens = tokenizer_en.tokenize(en_text)\n",
    "        de_tokens = tokenizer_de.tokenize(de_text)\n",
    "\n",
    "        return {'en': en_tokens, 'de': de_tokens}\n",
    "\n",
    "# 테스트 데이터셋 인스턴스 생성\n",
    "tokenized_test_dataset = TokenizedDataset(dataset['test'], tokenizer_en, tokenizer_de)"
   ]
  },
  {
   "cell_type": "code",
   "execution_count": 28,
   "metadata": {},
   "outputs": [
    {
     "name": "stdout",
     "output_type": "stream",
     "text": [
      "소스 문장: ['Eine', 'Mutter', 'und', 'ihr', 'kleiner', 'Sohn', 'genießen', 'einen', 'schönen', 'Tag', 'im', 'Freien', '.']\n",
      "타겟 문장: ['a', 'mother', 'and', 'her', 'young', 'song', 'enjoying', 'a', 'beautiful', 'day', 'outside', '.']\n",
      "모델 출력 결과: ['a', 'mother', 'and', 'her', 'baby', 'son', 'enjoy', 'a', 'beautiful', 'day', '.', '[SEP]']\n"
     ]
    }
   ],
   "source": [
    "example_idx = 10\n",
    "\n",
    "src = tokenized_test_dataset[example_idx]['de']\n",
    "trg = tokenized_test_dataset[example_idx]['en']\n",
    "\n",
    "print(f'소스 문장: {src}')\n",
    "print(f'타겟 문장: {trg}')\n",
    "\n",
    "translation = translate_sentence(src, model, device)\n",
    "\n",
    "print(\"모델 출력 결과:\", translation)"
   ]
  },
  {
   "cell_type": "code",
   "execution_count": 29,
   "metadata": {},
   "outputs": [],
   "source": [
    "from torchtext.data.metrics import bleu_score\n",
    "\n",
    "def show_bleu(data, model, device, max_len=50):\n",
    "    trgs = []\n",
    "    pred_trgs = []\n",
    "    index = 0\n",
    "\n",
    "    for datum in tqdm(data):\n",
    "        src = datum['de']\n",
    "        trg = datum['en']\n",
    "\n",
    "        pred_trg = translate_sentence(src, model, device, max_len)\n",
    "\n",
    "        # 마지막 <eos> 토큰 제거\n",
    "        pred_trg = pred_trg[:-1]\n",
    "\n",
    "        pred_trgs.append(pred_trg)\n",
    "        trgs.append([trg])\n",
    "\n",
    "        index += 1\n",
    "        if (index + 1) % 100 == 0:\n",
    "            print(f\"[{index + 1}/{len(data)}]\")\n",
    "            print(f\"예측: {pred_trg}\")\n",
    "            print(f\"정답: {trg}\")\n",
    "\n",
    "    bleu = bleu_score(pred_trgs, trgs, max_n=4, weights=[0.25, 0.25, 0.25, 0.25])\n",
    "    print(f'Total BLEU Score = {bleu*100:.2f}')\n",
    "\n",
    "    individual_bleu1_score = bleu_score(pred_trgs, trgs, max_n=4, weights=[1, 0, 0, 0])\n",
    "    individual_bleu2_score = bleu_score(pred_trgs, trgs, max_n=4, weights=[0, 1, 0, 0])\n",
    "    individual_bleu3_score = bleu_score(pred_trgs, trgs, max_n=4, weights=[0, 0, 1, 0])\n",
    "    individual_bleu4_score = bleu_score(pred_trgs, trgs, max_n=4, weights=[0, 0, 0, 1])\n",
    "\n",
    "    print(f\"Multiple Sentence score1 = {individual_bleu1_score*100:.2f}\")\n",
    "    print(f\"Multiple Sentence score2 = {individual_bleu2_score*100:.2f}\")\n",
    "    print(f\"Multiple Sentence score3 = {individual_bleu3_score*100:.2f}\")\n",
    "    print(f\"Multiple Sentence score4 = {individual_bleu4_score*100:.2f}\")\n",
    "\n",
    "    cumulative_bleu1_score = bleu_score(pred_trgs, trgs, max_n=4, weights=[1, 0, 0, 0])\n",
    "    cumulative_bleu2_score = bleu_score(pred_trgs, trgs, max_n=4, weights=[1/2, 1/2, 0, 0])\n",
    "    cumulative_bleu3_score = bleu_score(pred_trgs, trgs, max_n=4, weights=[1/3, 1/3, 1/3, 0])\n",
    "    cumulative_bleu4_score = bleu_score(pred_trgs, trgs, max_n=4, weights=[1/4, 1/4, 1/4, 1/4])\n",
    "\n",
    "    print(f'Cumulative BLEU1 score = {cumulative_bleu1_score*100:.2f}')\n",
    "    print(f'Cumulative BLEU2 score = {cumulative_bleu2_score*100:.2f}')\n",
    "    print(f'Cumulative BLEU3 score = {cumulative_bleu3_score*100:.2f}')\n",
    "    print(f'Cumulative BLEU4 score = {cumulative_bleu4_score*100:.2f}')"
   ]
  },
  {
   "cell_type": "code",
   "execution_count": 30,
   "metadata": {},
   "outputs": [
    {
     "name": "stderr",
     "output_type": "stream",
     "text": [
      " 10%|█         | 100/1000 [01:19<01:47,  8.39it/s]"
     ]
    },
    {
     "name": "stdout",
     "output_type": "stream",
     "text": [
      "[100/1000]\n",
      "예측: ['a', 'group', 'of', 'asian', 'children', 'sit', 'in', 'work', 'chairs', '.']\n",
      "정답: ['a', 'group', 'of', 'mostly', 'asian', 'children', 'sitting', 'at', 'cubic', '##les', 'in', 'blue', 'chairs', '.']\n"
     ]
    },
    {
     "name": "stderr",
     "output_type": "stream",
     "text": [
      " 20%|██        | 200/1000 [01:37<01:43,  7.76it/s]"
     ]
    },
    {
     "name": "stdout",
     "output_type": "stream",
     "text": [
      "[200/1000]\n",
      "예측: ['all', 'of', 'all', 'standing', 'under', 'umbrella', '##s', '.']\n",
      "정답: ['the', 'group', 'of', 'people', 'are', 'all', 'covered', 'by', 'umbrella', '##s', '.']\n"
     ]
    },
    {
     "name": "stderr",
     "output_type": "stream",
     "text": [
      " 30%|███       | 300/1000 [01:56<01:13,  9.48it/s]"
     ]
    },
    {
     "name": "stdout",
     "output_type": "stream",
     "text": [
      "[300/1000]\n",
      "예측: ['a', 'goal', '##ie', 'in', 'a', 'yellow', 'jersey', 'is', 'coming', 'out', 'the', 'goal', '.']\n",
      "정답: ['a', 'goal', '##ie', 'in', 'a', 'yellow', 'field', 'is', 'protecting', 'the', 'goal', '.']\n"
     ]
    },
    {
     "name": "stderr",
     "output_type": "stream",
     "text": [
      " 40%|████      | 400/1000 [02:12<00:57, 10.36it/s]"
     ]
    },
    {
     "name": "stdout",
     "output_type": "stream",
     "text": [
      "[400/1000]\n",
      "예측: ['two', 'young', 'children', 'on', 'the', 'sand', '.']\n",
      "정답: ['two', 'young', 'children', 'are', 'on', 'sand', '.']\n"
     ]
    },
    {
     "name": "stderr",
     "output_type": "stream",
     "text": [
      " 50%|█████     | 500/1000 [02:27<01:05,  7.64it/s]"
     ]
    },
    {
     "name": "stdout",
     "output_type": "stream",
     "text": [
      "[500/1000]\n",
      "예측: ['two', 'medium', '-', 'sized', 'dogs', 'are', 'running', 'across', 'the', 'snow', '.']\n",
      "정답: ['two', 'medium', 'sized', 'dogs', 'run', 'across', 'the', 'snow', '.']\n"
     ]
    },
    {
     "name": "stderr",
     "output_type": "stream",
     "text": [
      " 60%|██████    | 600/1000 [02:47<01:21,  4.92it/s]"
     ]
    },
    {
     "name": "stdout",
     "output_type": "stream",
     "text": [
      "[600/1000]\n",
      "예측: ['a', 'group', 'of', 'men', 'sit', 'and', 'chatting', 'behind', 'green', 'fruit', '.']\n",
      "정답: ['a', 'group', 'of', 'men', 'sitting', 'and', 'talking', 'behind', 'some', 'green', 'fruit', '.']\n"
     ]
    },
    {
     "name": "stderr",
     "output_type": "stream",
     "text": [
      " 70%|██████▉   | 699/1000 [03:10<00:47,  6.31it/s]"
     ]
    },
    {
     "name": "stdout",
     "output_type": "stream",
     "text": [
      "[700/1000]\n",
      "예측: ['two', 'people', 'look', 'at', 'the', 'light', 'at', 'a', 'city', 'at', 'night', '.']\n",
      "정답: ['two', 'people', 'look', 'on', 'in', 'the', 'nighttime', 'at', 'the', 'lights', 'in', 'a', 'city', '.']\n"
     ]
    },
    {
     "name": "stderr",
     "output_type": "stream",
     "text": [
      " 80%|████████  | 800/1000 [03:24<00:24,  8.17it/s]"
     ]
    },
    {
     "name": "stdout",
     "output_type": "stream",
     "text": [
      "[800/1000]\n",
      "예측: ['people', 'all', 'of', 'people', 'all', 'all', 'all', 'wearing', 'bicycles', '.']\n",
      "정답: ['crowds', 'of', 'people', 'are', 'all', 'riding', 'bicycles', '.']\n"
     ]
    },
    {
     "name": "stderr",
     "output_type": "stream",
     "text": [
      " 90%|█████████ | 900/1000 [03:40<00:14,  7.07it/s]"
     ]
    },
    {
     "name": "stdout",
     "output_type": "stream",
     "text": [
      "[900/1000]\n",
      "예측: ['children', 'fight', 'to', 'tag', 'the', 'ball', '.']\n",
      "정답: ['kids', 'compete', 'to', 'gain', 'possession', 'of', 'the', 'soccer', 'ball', '.']\n"
     ]
    },
    {
     "name": "stderr",
     "output_type": "stream",
     "text": [
      "100%|██████████| 1000/1000 [04:04<00:00,  4.08it/s]"
     ]
    },
    {
     "name": "stdout",
     "output_type": "stream",
     "text": [
      "[1000/1000]\n",
      "예측: ['an', 'older', 'man', 'is', 'playing', 'a', 'video', 'game', '.']\n",
      "정답: ['an', 'older', 'man', 'is', 'playing', 'a', 'video', 'arcade', 'game', '.']\n"
     ]
    },
    {
     "name": "stderr",
     "output_type": "stream",
     "text": [
      "\n"
     ]
    },
    {
     "name": "stdout",
     "output_type": "stream",
     "text": [
      "Total BLEU Score = 36.90\n",
      "Multiple Sentence score1 = 66.83\n",
      "Multiple Sentence score2 = 44.26\n",
      "Multiple Sentence score3 = 30.03\n",
      "Multiple Sentence score4 = 20.88\n",
      "Cumulative BLEU1 score = 66.83\n",
      "Cumulative BLEU2 score = 54.39\n",
      "Cumulative BLEU3 score = 44.62\n",
      "Cumulative BLEU4 score = 36.90\n"
     ]
    }
   ],
   "source": [
    "show_bleu(tokenized_test_dataset, model, device)"
   ]
  },
  {
   "cell_type": "code",
   "execution_count": null,
   "metadata": {},
   "outputs": [],
   "source": []
  }
 ],
 "metadata": {
  "kernelspec": {
   "display_name": "Python 3",
   "language": "python",
   "name": "python3"
  },
  "language_info": {
   "codemirror_mode": {
    "name": "ipython",
    "version": 3
   },
   "file_extension": ".py",
   "mimetype": "text/x-python",
   "name": "python",
   "nbconvert_exporter": "python",
   "pygments_lexer": "ipython3",
   "version": "3.11.3"
  }
 },
 "nbformat": 4,
 "nbformat_minor": 2
}
